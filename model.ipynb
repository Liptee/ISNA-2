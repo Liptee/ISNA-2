{
 "cells": [
  {
   "cell_type": "code",
   "execution_count": null,
   "metadata": {},
   "outputs": [],
   "source": [
    "import pandas as pd\n",
    "import numpy as  np\n",
    "import tensorflow as tf\n",
    "import tflearn\n",
    "import re\n",
    "\n",
    "from pymorphy2 import MorphAnalyzer\n",
    "from collections import Counter\n",
    "from sklearn.model_selection import train_test_split\n",
    "from tflearn.data_utils import to_categorical\n",
    "from nltk.stem.snowball import RussianStemmer\n",
    "from nltk.tokenize import TweetTokenizer"
   ]
  },
  {
   "cell_type": "markdown",
   "metadata": {},
   "source": [
    "# ПЕРЕМЕННЫЕ"
   ]
  },
  {
   "cell_type": "code",
   "execution_count": null,
   "metadata": {},
   "outputs": [],
   "source": [
    "path_to_positive = \"data\\positive.csv\"\n",
    "path_to_neganive = \"data/negative.csv\"\n",
    "\n",
    "VOCAB_SIZE = 5000"
   ]
  },
  {
   "cell_type": "markdown",
   "metadata": {},
   "source": [
    "# ЗАГРУЖАЕМ ДАННЫЕ"
   ]
  },
  {
   "cell_type": "code",
   "execution_count": null,
   "metadata": {},
   "outputs": [],
   "source": [
    "tweets_col_number = 3\n",
    "negative_tweets = pd.read_csv(path_to_neganive, header=None, delimiter=\";\")[[tweets_col_number]]\n",
    "positive_tweets = pd.read_csv(path_to_positive, header=None, delimiter=\";\")[[tweets_col_number]]\n",
    "\n",
    "del path_to_neganive\n",
    "del path_to_positive"
   ]
  },
  {
   "cell_type": "markdown",
   "metadata": {},
   "source": [
    "# СОЗДАЕМ СТЕММЕР"
   ]
  },
  {
   "cell_type": "code",
   "execution_count": null,
   "metadata": {},
   "outputs": [],
   "source": [
    "stemmer = RussianStemmer()\n",
    "regex = re.compile('[^а-яА-Я ]')\n",
    "stem_cache = {}\n",
    "\n",
    "def get_stem(token):\n",
    "    stem = stem_cache.get(token, None)\n",
    "    if stem:\n",
    "        return stem\n",
    "    token = regex.sub('', token).lower()\n",
    "    stem = stemmer.stem(token)\n",
    "    stem_cache[token] = stem\n",
    "    return stem"
   ]
  },
  {
   "cell_type": "markdown",
   "metadata": {},
   "source": [
    "# СОЗДАЕМ ЛЕММАТИЗАТОР"
   ]
  },
  {
   "cell_type": "code",
   "execution_count": null,
   "metadata": {},
   "outputs": [],
   "source": [
    "lemmatizer = MorphAnalyzer()\n",
    "lemma_cache = {}\n",
    "\n",
    "def get_lemma(token):\n",
    "    lemma = lemma_cache.get(token, None)\n",
    "    if lemma:\n",
    "        return lemma\n",
    "    token = regex.sub('', token).lower()\n",
    "    lemma = lemmatizer.parse(token)[0].normal_form\n",
    "    lemma_cache[token] = lemma\n",
    "    return lemma"
   ]
  },
  {
   "cell_type": "markdown",
   "metadata": {},
   "source": [
    "# СОЗДАНИЕ СЛОВАРЯ СТЕМ"
   ]
  },
  {
   "cell_type": "code",
   "execution_count": null,
   "metadata": {},
   "outputs": [],
   "source": [
    "stem_count = Counter()\n",
    "tokenizer = TweetTokenizer()\n",
    "\n",
    "def count_unique_stems_in_tweets(tweets):\n",
    "    for _, tweet_series in tweets.iterrows():\n",
    "        tweet = tweet_series[3]\n",
    "        tokens = tokenizer.tokenize(tweet)\n",
    "        for token in tokens:\n",
    "            stem = get_stem(token)\n",
    "            stem_count[stem] += 1\n",
    "\n",
    "count_unique_stems_in_tweets(negative_tweets)\n",
    "count_unique_stems_in_tweets(positive_tweets)"
   ]
  },
  {
   "cell_type": "code",
   "execution_count": null,
   "metadata": {},
   "outputs": [],
   "source": [
    "print(f\"Найдено {len(stem_count)} уникальных стем\")"
   ]
  },
  {
   "cell_type": "code",
   "execution_count": null,
   "metadata": {},
   "outputs": [],
   "source": [
    "vocab = sorted(stem_count, key=stem_count.get, reverse=True)[:VOCAB_SIZE]\n",
    "print(vocab[:20])"
   ]
  },
  {
   "cell_type": "code",
   "execution_count": null,
   "metadata": {},
   "outputs": [],
   "source": [
    "token_2_idx = {vocab[i] : i for i in range(VOCAB_SIZE)}\n",
    "len(token_2_idx)"
   ]
  },
  {
   "cell_type": "markdown",
   "metadata": {},
   "source": [
    "# СОЗДАНИЕ СЛОВАРЯ ЛЕММ"
   ]
  },
  {
   "cell_type": "code",
   "execution_count": null,
   "metadata": {},
   "outputs": [],
   "source": [
    "lemm_count = Counter()\n",
    "tokenizer = TweetTokenizer()\n",
    "\n",
    "def count_unique_lemm_in_tweets(tweets):\n",
    "    for _, tweet_series in tweets.iterrows():\n",
    "        tweet = tweet_series[3]\n",
    "        tokens = tokenizer.tokenize(tweet)\n",
    "        for token in tokens:\n",
    "            stem = get_lemma(token)\n",
    "            lemm_count[stem] += 1\n",
    "\n",
    "# count_unique_lemm_in_tweets(negative_tweets)\n",
    "# count_unique_lemm_in_tweets(positive_tweets)"
   ]
  },
  {
   "cell_type": "code",
   "execution_count": null,
   "metadata": {},
   "outputs": [],
   "source": [
    "print(f\"Найдено {len(lemm_count)} уникальных лемм\")"
   ]
  },
  {
   "cell_type": "code",
   "execution_count": null,
   "metadata": {},
   "outputs": [],
   "source": [
    "lemm_vocab = sorted(lemm_count, key=lemm_count.get, reverse=True)[:VOCAB_SIZE]\n",
    "print(vocab[:20])"
   ]
  },
  {
   "cell_type": "code",
   "execution_count": null,
   "metadata": {},
   "outputs": [],
   "source": [
    "def tweet_to_vector(tweet, show_unknowns=False):\n",
    "    vector = np.zeros(VOCAB_SIZE, dtype=np.int_)\n",
    "    for token in tokenizer.tokenize(tweet):\n",
    "        stem = get_stem(token)\n",
    "        idx = token_2_idx.get(stem, None)\n",
    "        if idx is not None:\n",
    "            vector[idx] = 1\n",
    "        elif show_unknowns:\n",
    "            print(f\"Unknow token {token}\")\n",
    "    return vector"
   ]
  },
  {
   "cell_type": "code",
   "execution_count": null,
   "metadata": {},
   "outputs": [],
   "source": [
    "tweet = negative_tweets.iloc[1][3]\n",
    "print(f\"tweet: {tweet}\")\n",
    "print(f\"vector: {tweet_to_vector(tweet)[:10]}\")\n",
    "print(vocab[2])"
   ]
  },
  {
   "cell_type": "markdown",
   "metadata": {},
   "source": [
    "# ПРЕОБАЗОВАНИЕ ТВИТОВ В ВЕКТОРНОЕ ПРЕДСТАВЛЕНИЕ"
   ]
  },
  {
   "cell_type": "code",
   "execution_count": null,
   "metadata": {},
   "outputs": [],
   "source": [
    "tweet_vectors = np.zeros((len(negative_tweets) + len(positive_tweets), VOCAB_SIZE),dtype=np.int_)\n",
    "tweets = []\n",
    "for ii, (_, tweet) in enumerate(negative_tweets.iterrows()):\n",
    "    tweets.append(tweet[3])\n",
    "    tweet_vectors[ii] = tweet_to_vector(tweet[3])\n",
    "for ii, (_, tweet) in enumerate(positive_tweets.iterrows()):\n",
    "    tweets.append(tweet[3])\n",
    "    tweet_vectors[ii + len(negative_tweets)] = tweet_to_vector(tweet[3])"
   ]
  },
  {
   "cell_type": "markdown",
   "metadata": {},
   "source": [
    "# ПОДГОТОВКА РАЗМЕТКИ"
   ]
  },
  {
   "cell_type": "code",
   "execution_count": null,
   "metadata": {},
   "outputs": [],
   "source": [
    "labels = np.append(\n",
    "    np.zeros(len(negative_tweets), dtype=np.int_),\n",
    "    np.ones(len(positive_tweets), dtype=np.int_)\n",
    ")"
   ]
  },
  {
   "cell_type": "markdown",
   "metadata": {},
   "source": [
    "# ПОДГОТОВИМ ДАННЫЕ К ОБУЧЕНИЮ"
   ]
  },
  {
   "cell_type": "code",
   "execution_count": null,
   "metadata": {},
   "outputs": [],
   "source": [
    "X = tweet_vectors\n",
    "y = to_categorical(labels, 2)\n",
    "X_train, X_test, y_train, y_test = train_test_split(X, y, test_size=0.1)"
   ]
  },
  {
   "cell_type": "code",
   "execution_count": null,
   "metadata": {},
   "outputs": [],
   "source": [
    "print(y_test[:10])"
   ]
  },
  {
   "cell_type": "markdown",
   "metadata": {},
   "source": [
    "# СТРОИМ НЕЙРОННУЮ СЕТЬ"
   ]
  },
  {
   "cell_type": "code",
   "execution_count": null,
   "metadata": {},
   "outputs": [],
   "source": [
    "def build_model(learning_rate=0.1):\n",
    "    tf.compat.v1.reset_default_graph()\n",
    "\n",
    "    net = tflearn.input_data([None, VOCAB_SIZE])\n",
    "    net = tflearn.fully_connected(net, 125, activation=\"ReLU\")\n",
    "    net = tflearn.fully_connected(net, 25, activation=\"ReLU\")\n",
    "    net = tflearn.fully_connected(net, 2, activation=\"softmax\")\n",
    "    regression = tflearn.regression(\n",
    "        net,\n",
    "        optimizer='sgd',\n",
    "        learning_rate=learning_rate,\n",
    "        loss='categorical_crossentropy'\n",
    "    )\n",
    "\n",
    "    model = tflearn.DNN(net)\n",
    "    return model"
   ]
  },
  {
   "cell_type": "code",
   "execution_count": null,
   "metadata": {},
   "outputs": [],
   "source": [
    "model = build_model(learning_rate=0.75)"
   ]
  },
  {
   "cell_type": "code",
   "execution_count": null,
   "metadata": {},
   "outputs": [],
   "source": []
  },
  {
   "cell_type": "code",
   "execution_count": null,
   "metadata": {},
   "outputs": [],
   "source": [
    "model.fit(\n",
    "    X_train,\n",
    "    y_train,\n",
    "    validation_set=0.01,\n",
    "    show_metric=True,\n",
    "    batch_size=128,\n",
    "    n_epoch=2\n",
    ")"
   ]
  },
  {
   "cell_type": "markdown",
   "metadata": {},
   "source": [
    "# Тестирование"
   ]
  },
  {
   "cell_type": "code",
   "execution_count": null,
   "metadata": {},
   "outputs": [],
   "source": [
    "predict = (np.array(model.predict(X_test))[:,0] >= 0.5).astype(np.int_)\n",
    "accuracy = np.mean(predict == y_test[:,0], axis = 0)\n",
    "print(f\"Accuracy: {accuracy}\")"
   ]
  },
  {
   "cell_type": "code",
   "execution_count": null,
   "metadata": {},
   "outputs": [],
   "source": [
    "predict"
   ]
  }
 ],
 "metadata": {
  "kernelspec": {
   "display_name": "Python 3.10.8 ('Lab_2-zARI9a1x')",
   "language": "python",
   "name": "python3"
  },
  "language_info": {
   "codemirror_mode": {
    "name": "ipython",
    "version": 3
   },
   "file_extension": ".py",
   "mimetype": "text/x-python",
   "name": "python",
   "nbconvert_exporter": "python",
   "pygments_lexer": "ipython3",
   "version": "3.10.8"
  },
  "orig_nbformat": 4,
  "vscode": {
   "interpreter": {
    "hash": "907a74e250388877b60673f81d9745fd136c55194997f2bc3ee1d81b60a1c990"
   }
  }
 },
 "nbformat": 4,
 "nbformat_minor": 2
}
